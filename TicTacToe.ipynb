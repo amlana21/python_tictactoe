{
 "cells": [
  {
   "cell_type": "code",
   "execution_count": 2,
   "metadata": {},
   "outputs": [
    {
     "name": "stdout",
     "output_type": "stream",
     "text": [
      "   |   |\n",
      " N | N | N \n",
      "   |   |\n",
      "-------------\n",
      "   |   |\n",
      " N | N | N \n",
      "   |   |\n",
      "--------------\n",
      "   |   |\n",
      " N | N | N \n",
      "   |   |\n"
     ]
    }
   ],
   "source": [
    "from IPython.display import clear_output\n",
    "def display_board(board):\n",
    "    clear_output()\n",
    "    print('   |   |')\n",
    "    print(' '+board[1]+' | '+board[2]+' | '+board[3]+' ')\n",
    "    print('   |   |')\n",
    "    print('-------------')\n",
    "    print('   |   |')\n",
    "    print(' '+board[4]+' | '+board[5]+' | '+board[6]+' ')\n",
    "    print('   |   |')\n",
    "    print('--------------')\n",
    "    print('   |   |')\n",
    "    print(' '+board[7]+' | '+board[8]+' | '+board[9]+' ')\n",
    "    print('   |   |')\n",
    "#     print('--------------')\n",
    "\n",
    "brd=['#','N','N','N','N','N','N','N','N','N']\n",
    "display_board(brd)"
   ]
  },
  {
   "cell_type": "code",
   "execution_count": 3,
   "metadata": {},
   "outputs": [],
   "source": [
    "#ask the player for marker\n",
    "def get_marker():\n",
    "    mrker=str(input('Player 1 please input your marker(X or O): '))\n",
    "    if mrker=='X':\n",
    "        return ('X','O')\n",
    "    else:\n",
    "        return ('O','X')\n",
    "\n",
    "#randomly strt the turn'\n",
    "import random\n",
    "def ret_turn():\n",
    "    return random.randint(0,1)"
   ]
  },
  {
   "cell_type": "code",
   "execution_count": 4,
   "metadata": {},
   "outputs": [],
   "source": [
    "def replace_board(mrkr,board,pstn):\n",
    "    board[pstn]=mrkr\n",
    "    return board"
   ]
  },
  {
   "cell_type": "code",
   "execution_count": 5,
   "metadata": {},
   "outputs": [],
   "source": [
    "def check_board(brd,pstn):\n",
    "    otpt=brd[pstn]=='N'and 0<pstn<10\n",
    "    print(otpt)\n",
    "    return otpt"
   ]
  },
  {
   "cell_type": "code",
   "execution_count": 7,
   "metadata": {},
   "outputs": [],
   "source": [
    "def chk_winner(brd,mrker):\n",
    "    if brd[1]==brd[2]==brd[3]==mrker:\n",
    "        return True\n",
    "    elif brd[4]==brd[5]==brd[6]==mrker:\n",
    "        return True\n",
    "    elif brd[7]==brd[8]==brd[9]==mrker:\n",
    "        return True\n",
    "    elif brd[1]==brd[4]==brd[7]==mrker:\n",
    "        return True\n",
    "    elif brd[2]==brd[5]==brd[8]==mrker:\n",
    "        return True\n",
    "    elif brd[3]==brd[6]==brd[9]==mrker:\n",
    "        return True"
   ]
  },
  {
   "cell_type": "code",
   "execution_count": 8,
   "metadata": {},
   "outputs": [
    {
     "name": "stdout",
     "output_type": "stream",
     "text": [
      "   |   |\n",
      " O | X | O \n",
      "   |   |\n",
      "-------------\n",
      "   |   |\n",
      " O | X | X \n",
      "   |   |\n",
      "--------------\n",
      "   |   |\n",
      " N | X | N \n",
      "   |   |\n",
      "Player 1 wins\n"
     ]
    }
   ],
   "source": [
    "game_on=True\n",
    "while game_on:\n",
    "    clear_output()\n",
    "    brd=['#','N','N','N','N','N','N','N','N','N']\n",
    "    display_board(brd)\n",
    "    ply=str(input('Are you ready to play(Y/N)'))\n",
    "    mrker1,mrker2=get_marker()\n",
    "    plyr_turn=ret_turn()\n",
    "    while ply=='Y':\n",
    "        \n",
    "        if plyr_turn==1:\n",
    "            err=True\n",
    "            while err:\n",
    "                try:\n",
    "                    inpt=int(input('Player 1 input(1-9): '))\n",
    "                    err=False\n",
    "#                     print('reached')\n",
    "                except:\n",
    "                    print('Please enter valid input..')\n",
    "                    continue\n",
    "            if inpt==100:\n",
    "                break\n",
    "            while not(check_board(brd,inpt)):\n",
    "                inpt=int(input('Please provide valid input: '))\n",
    "            brd=replace_board(mrker1,brd,inpt)\n",
    "            if chk_winner(brd,mrker1):\n",
    "                \n",
    "                display_board(brd)\n",
    "                print('Player 1 wins')\n",
    "                break\n",
    "            #print(inpt)\n",
    "            \n",
    "            plyr_turn=0\n",
    "            display_board(brd)\n",
    "        elif plyr_turn==0:\n",
    "            err=True\n",
    "            while err:\n",
    "                try:\n",
    "                    inpt=int(input('Player 2 input(1-9): '))\n",
    "                    err=False\n",
    "#                     print('reached')\n",
    "                except:\n",
    "                    print('Please enter valid input..')\n",
    "                    continue\n",
    "            if inpt==100:\n",
    "                break\n",
    "            while not(check_board(brd,inpt)):\n",
    "                inpt=int(input('Please provide valid input: '))\n",
    "            brd=replace_board(mrker2,brd,inpt)\n",
    "            if chk_winner(brd,mrker2):\n",
    "                \n",
    "                display_board(brd)\n",
    "                print('Player 2 wins')\n",
    "                break\n",
    "#             print('reached')\n",
    "            #print(inpt)\n",
    "            plyr_turn=1\n",
    "            display_board(brd)\n",
    "    else:\n",
    "        game_on=False\n",
    "    \n",
    "    \n",
    "    game_on=False"
   ]
  },
  {
   "cell_type": "code",
   "execution_count": null,
   "metadata": {},
   "outputs": [],
   "source": []
  }
 ],
 "metadata": {
  "kernelspec": {
   "display_name": "Python 3",
   "language": "python",
   "name": "python3"
  },
  "language_info": {
   "codemirror_mode": {
    "name": "ipython",
    "version": 3
   },
   "file_extension": ".py",
   "mimetype": "text/x-python",
   "name": "python",
   "nbconvert_exporter": "python",
   "pygments_lexer": "ipython3",
   "version": "3.6.4"
  }
 },
 "nbformat": 4,
 "nbformat_minor": 2
}
